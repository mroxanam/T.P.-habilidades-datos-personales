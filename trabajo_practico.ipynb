{
  "nbformat": 4,
  "nbformat_minor": 0,
  "metadata": {
    "colab": {
      "provenance": [],
      "authorship_tag": "ABX9TyPSzFXOFQC4cxCBOgDdsti7",
      "include_colab_link": true
    },
    "kernelspec": {
      "name": "python3",
      "display_name": "Python 3"
    },
    "language_info": {
      "name": "python"
    }
  },
  "cells": [
    {
      "cell_type": "markdown",
      "metadata": {
        "id": "view-in-github",
        "colab_type": "text"
      },
      "source": [
        "<a href=\"https://colab.research.google.com/github/mroxanam/T.P.-habilidades-datos-personales/blob/main/trabajo_practico.ipynb\" target=\"_parent\"><img src=\"https://colab.research.google.com/assets/colab-badge.svg\" alt=\"Open In Colab\"/></a>"
      ]
    },
    {
      "cell_type": "code",
      "execution_count": null,
      "metadata": {
        "id": "sPoQnEYYQpWG"
      },
      "outputs": [],
      "source": []
    },
    {
      "cell_type": "markdown",
      "source": [],
      "metadata": {
        "id": "1SxUvyjYUjVr"
      }
    },
    {
      "cell_type": "markdown",
      "source": [
        "MANCUELLO MARIA ROXANA\n",
        "Direccion:Santa fe 471 Capilla Del Monte\n",
        "Mail :mroxanam20@gmail.com\n",
        "Telefono: 01132379582\n",
        "El inicio fue productivo con informacion sobre empatia comportamientos de vida diaria para implementarlas en la carrera ser organizados,prolijos ,paciente atentos y dedicarle todo el tiempo que se pueda.me gusta ir presencial me ayuda a sacarme las dudas en el momento.\n",
        "obstaculos seria la conexion a internet en el establecimiento ,estar comodos en las aulas\n",
        "Habilidades cognitivas :\n",
        "Atención: La atención es una competencia cognitiva que implica que las personas puedan concentrarse en un estímulo específico de su entorno.\n",
        "Aprendizaje:capacidad de asimilar cosas nuevas, así como sintetizar información y relacionarla con conocimientos previos.\n",
        "Percepción: La percepción es una habilidad mental que permite a las personas poder recibir información a través de todos los sentidos para poder responder e interactuar con el ambiente y la realidad que nos rodea."
      ],
      "metadata": {
        "id": "84ooHh4vQrCa"
      }
    },
    {
      "cell_type": "code",
      "source": [],
      "metadata": {
        "id": "foj0Xx_Atwl3"
      },
      "execution_count": null,
      "outputs": []
    }
  ]
}